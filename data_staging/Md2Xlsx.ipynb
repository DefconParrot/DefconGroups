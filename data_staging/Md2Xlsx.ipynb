{
 "cells": [
  {
   "cell_type": "code",
   "execution_count": 57,
   "metadata": {},
   "outputs": [],
   "source": [
    "import markdown\n",
    "import pandas as pd\n",
    "from openpyxl import Workbook\n",
    "from openpyxl.styles import Alignment, Font\n",
    "from openpyxl.utils import get_column_letter\n",
    "from openpyxl.utils.dataframe import dataframe_to_rows\n",
    "import os\n",
    "import re"
   ]
  },
  {
   "cell_type": "code",
   "execution_count": null,
   "metadata": {},
   "outputs": [],
   "source": []
  },
  {
   "cell_type": "code",
   "execution_count": 58,
   "metadata": {},
   "outputs": [],
   "source": [
    " # convert md to plain text with all links"
   ]
  },
  {
   "cell_type": "code",
   "execution_count": 59,
   "metadata": {},
   "outputs": [],
   "source": [
    "def markdown_to_rich_text(md):\n",
    "    def replace_link(match):\n",
    "        text, url = match.groups()\n",
    "        return f'{text} ({url})'\n",
    "    \n",
    "    md = re.sub(r'\\[([^]]+)\\]\\(([^)]+)\\)', replace_link, md)\n",
    "    md = md.replace(\"<br>\", \"\\n\").replace(\"</br>\", \"\\n\")\n",
    "    return md"
   ]
  },
  {
   "cell_type": "code",
   "execution_count": null,
   "metadata": {},
   "outputs": [],
   "source": []
  },
  {
   "cell_type": "code",
   "execution_count": 60,
   "metadata": {},
   "outputs": [],
   "source": [
    "# extracting link text from md links\n",
    "def extract_link_text(md):\n",
    "    link_text = re.search(r'\\[([^]]+)\\]\\(([^)]+)\\)', md)\n",
    "    return link_text.group(1) if link_text else md"
   ]
  },
  {
   "cell_type": "code",
   "execution_count": null,
   "metadata": {},
   "outputs": [],
   "source": []
  },
  {
   "cell_type": "code",
   "execution_count": 61,
   "metadata": {},
   "outputs": [],
   "source": [
    "# Read md file\n",
    "input_file = \"data_staging/groups.md\"\n",
    "with open(input_file, \"r\", encoding=\"utf-8\") as file:\n",
    "    markdown_content = file.read()"
   ]
  },
  {
   "cell_type": "code",
   "execution_count": 62,
   "metadata": {},
   "outputs": [],
   "source": [
    "# Split md content into lines\n",
    "lines = markdown_content.splitlines()"
   ]
  },
  {
   "cell_type": "code",
   "execution_count": null,
   "metadata": {},
   "outputs": [],
   "source": []
  },
  {
   "cell_type": "code",
   "execution_count": 63,
   "metadata": {},
   "outputs": [],
   "source": [
    "# Initialize vars to track table parsing\n",
    "in_table = False\n",
    "table_lines = []\n",
    "header = None\n",
    "data = []"
   ]
  },
  {
   "cell_type": "code",
   "execution_count": 64,
   "metadata": {},
   "outputs": [],
   "source": [
    "# Process each line of md content\n",
    "for line in lines:\n",
    "    if line.strip().startswith(\"|\"):\n",
    "        if not in_table:\n",
    "            in_table = True\n",
    "            header = [cell.strip() for cell in line.split(\"|\")[1:-1]]\n",
    "        else:\n",
    "            row_data = [cell.strip() for cell in line.split(\"|\")[1:-1]]\n",
    "            data.append(row_data)\n",
    "    elif not in_table and line.strip().startswith(\"---------\"):\n",
    "        # try skiping lines that start with \"---------\" below header\n",
    "        continue\n",
    "    else:\n",
    "        if in_table:\n",
    "            break"
   ]
  },
  {
   "cell_type": "code",
   "execution_count": null,
   "metadata": {},
   "outputs": [],
   "source": []
  },
  {
   "cell_type": "code",
   "execution_count": 65,
   "metadata": {},
   "outputs": [],
   "source": [
    "# Create a DataFrame from the extracted table\n",
    "if header and data:\n",
    "    df = pd.DataFrame(data, columns=header)"
   ]
  },
  {
   "cell_type": "code",
   "execution_count": 66,
   "metadata": {},
   "outputs": [],
   "source": [
    "    # Process table data, converting md to text with links\n",
    "    df[\"DCG Name\"] = df[\"DCG Name\"].apply(markdown_to_rich_text)\n",
    "    df[\"Website\"] = df[\"Website\"].apply(markdown_to_rich_text)\n",
    "    df[\"Social Link / Point of Contact (POC)\"] = df[\"Social Link / Point of Contact (POC)\"].apply(markdown_to_rich_text)\n",
    "    df[\"Join Group\"] = df[\"Join Group\"].apply(markdown_to_rich_text)"
   ]
  },
  {
   "cell_type": "code",
   "execution_count": 67,
   "metadata": {},
   "outputs": [],
   "source": [
    "    # Create output /dir if it doesn't exist\n",
    "    output_folder = \"DCGroups-XLSX\"\n",
    "    os.makedirs(output_folder, exist_ok=True)"
   ]
  },
  {
   "cell_type": "code",
   "execution_count": 68,
   "metadata": {},
   "outputs": [],
   "source": [
    "    # Create new dcg Excel with final groups data\n",
    "    output_file = os.path.join(output_folder, \"DCGroups-final.xlsx\")\n",
    "    wb = Workbook()\n",
    "    ws = wb.active"
   ]
  },
  {
   "cell_type": "code",
   "execution_count": null,
   "metadata": {},
   "outputs": [],
   "source": []
  },
  {
   "cell_type": "code",
   "execution_count": 69,
   "metadata": {},
   "outputs": [],
   "source": [
    "    # Convert the DataFrame to Excel\n",
    "    for r_idx, row in enumerate(dataframe_to_rows(df, index=False, header=True), 1):\n",
    "        for c_idx, value in enumerate(row, 1):\n",
    "            cell = ws.cell(row=r_idx, column=c_idx, value=value)\n",
    "            cell.alignment = Alignment(wrap_text=True)  # Enable text wrapping for cells\n",
    "            \n",
    "            # Check if the cell value contains a Markdown link\n",
    "            if isinstance(value, str) and re.search(r'\\[([^]]+)\\]\\(([^)]+)\\)', value):\n",
    "                # Extract the link text and target URL\n",
    "                link_text = extract_link_text(value)\n",
    "                target_url = re.search(r'\\[([^]]+)\\]\\(([^)]+)\\)', value).group(2)\n",
    "                \n",
    "                # Format the cell as a clickable hyperlink with the link text\n",
    "                cell.font = Font(color=\"0070C0\", underline=\"single\")\n",
    "                cell.hyperlink = target_url"
   ]
  },
  {
   "cell_type": "code",
   "execution_count": 70,
   "metadata": {},
   "outputs": [],
   "source": [
    "    # Adjust column widths for all columns\n",
    "    for column in df.columns:\n",
    "        max_length = df[column].astype(str).apply(len).max()  # Find the max length of values in each column\n",
    "        col_letter = get_column_letter(df.columns.get_loc(column) + 1)  # Get the column letter\n",
    "    \n",
    "        # Adjust the column width to fit the max length plus some padding\n",
    "        adjusted_width = max_length + 2\n",
    "        ws.column_dimensions[col_letter].width = adjusted_width"
   ]
  },
  {
   "cell_type": "code",
   "execution_count": 71,
   "metadata": {},
   "outputs": [],
   "source": [
    "    # Saving the Excel file\n",
    "    wb.save(output_file)"
   ]
  },
  {
   "cell_type": "code",
   "execution_count": 72,
   "metadata": {},
   "outputs": [
    {
     "name": "stdout",
     "output_type": "stream",
     "text": [
      "Conversion complete. XLSX file saved to DCGroups-XLSX\\DCGroups-final.xlsx\n"
     ]
    }
   ],
   "source": [
    "print(f\"Conversion complete. XLSX file saved to {output_file}\")"
   ]
  },
  {
   "cell_type": "code",
   "execution_count": null,
   "metadata": {},
   "outputs": [],
   "source": []
  }
 ],
 "metadata": {
  "kernelspec": {
   "display_name": "Python 3",
   "language": "python",
   "name": "python3"
  },
  "language_info": {
   "codemirror_mode": {
    "name": "ipython",
    "version": 3
   },
   "file_extension": ".py",
   "mimetype": "text/x-python",
   "name": "python",
   "nbconvert_exporter": "python",
   "pygments_lexer": "ipython3",
   "version": "3.6.4"
  }
 },
 "nbformat": 4,
 "nbformat_minor": 2
}
