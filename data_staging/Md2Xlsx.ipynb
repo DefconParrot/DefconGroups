{
 "cells": [
  {
   "cell_type": "code",
   "execution_count": 1,
   "metadata": {},
   "outputs": [],
   "source": [
    "import markdown\n",
    "import pandas as pd\n",
    "from openpyxl import Workbook\n",
    "from openpyxl.styles import Alignment, Font\n",
    "from openpyxl.utils import get_column_letter\n",
    "from openpyxl.utils.dataframe import dataframe_to_rows\n",
    "import os\n",
    "import re"
   ]
  },
  {
   "cell_type": "code",
   "execution_count": null,
   "metadata": {},
   "outputs": [],
   "source": []
  },
  {
   "cell_type": "code",
   "execution_count": 2,
   "metadata": {},
   "outputs": [],
   "source": [
    "# convert md to plain text with all links\n",
    "def markdown_to_rich_text(md):\n",
    "    def replace_link(match):\n",
    "        text, url = match.groups()\n",
    "        return f'{text} ({url})'\n",
    "    \n",
    "    if isinstance(md, str):\n",
    "        md = re.sub(r'\\[([^]]+)\\]\\(([^)]+)\\)', replace_link, md)\n",
    "        md = md.replace(\"<br>\", \"\\n\").replace(\"</br>\", \"\\n\")\n",
    "        return md\n",
    "    else:\n",
    "        return str(md)  # Convert non-string values to strings"
   ]
  },
  {
   "cell_type": "code",
   "execution_count": null,
   "metadata": {},
   "outputs": [],
   "source": []
  },
  {
   "cell_type": "code",
   "execution_count": 3,
   "metadata": {},
   "outputs": [],
   "source": [
    "# extracting link text from md links\n",
    "def extract_link_text(md):\n",
    "    link_text = re.search(r'\\[([^]]+)\\]\\(([^)]+)\\)', md)\n",
    "    return link_text.group(1) if link_text else md"
   ]
  },
  {
   "cell_type": "code",
   "execution_count": null,
   "metadata": {},
   "outputs": [],
   "source": []
  },
  {
   "cell_type": "code",
   "execution_count": 4,
   "metadata": {},
   "outputs": [],
   "source": [
    "# Read md file\n",
    "input_file = \"../data_staging/groups.md\"\n",
    "with open(input_file, \"r\", encoding=\"utf-8\") as file:\n",
    "    markdown_content = file.read()"
   ]
  },
  {
   "cell_type": "code",
   "execution_count": 5,
   "metadata": {},
   "outputs": [],
   "source": [
    "# Split md content into lines\n",
    "lines = markdown_content.splitlines()"
   ]
  },
  {
   "cell_type": "code",
   "execution_count": null,
   "metadata": {},
   "outputs": [],
   "source": []
  },
  {
   "cell_type": "code",
   "execution_count": 6,
   "metadata": {},
   "outputs": [],
   "source": [
    "# Initialize vars to track table parsing\n",
    "in_table = False\n",
    "table_lines = []\n",
    "header = None\n",
    "data = []"
   ]
  },
  {
   "cell_type": "code",
   "execution_count": null,
   "metadata": {},
   "outputs": [],
   "source": []
  },
  {
   "cell_type": "code",
   "execution_count": 7,
   "metadata": {},
   "outputs": [],
   "source": [
    "for line in lines:\n",
    "    if line.strip().startswith(\"|\"):\n",
    "        if not in_table:\n",
    "            in_table = True\n",
    "            header = [cell.strip() for cell in line.split(\"|\")[1:-1]]\n",
    "        else:\n",
    "            row_data = [cell.strip() for cell in line.split(\"|\")[1:-1]]\n",
    "            data.append(row_data)\n",
    "    elif not in_table and line.strip().startswith(\"---------\"):\n",
    "        # try skiping lines that start with \"---------\" below header\n",
    "        continue\n",
    "    else:\n",
    "        if in_table:\n",
    "            break\n",
    "\n",
    "# Remove leading and trailing spaces from column names\n",
    "header = [col.strip() for col in header]\n",
    "\n",
    "# Exclude first row after the headers\n",
    "if len(data) > 1:\n",
    "    data = data[1:]"
   ]
  },
  {
   "cell_type": "code",
   "execution_count": null,
   "metadata": {},
   "outputs": [],
   "source": []
  },
  {
   "cell_type": "code",
   "execution_count": 8,
   "metadata": {},
   "outputs": [],
   "source": [
    "# Create a DataFrame from the extracted table\n",
    "if header and data:\n",
    "    df = pd.DataFrame(data, columns=header)"
   ]
  },
  {
   "cell_type": "code",
   "execution_count": 9,
   "metadata": {},
   "outputs": [],
   "source": [
    "    df['ID'] = df.index + 1 #renumbering 'ID' column"
   ]
  },
  {
   "cell_type": "code",
   "execution_count": 10,
   "metadata": {},
   "outputs": [],
   "source": [
    "    # Process table data, converting md to text with links\n",
    "    df[\"DCG Name\"] = df[\"DCG Name\"].apply(markdown_to_rich_text)\n",
    "    df[\"Website\"] = df[\"Website\"].apply(markdown_to_rich_text)\n",
    "    df[\"Social Link / Point of Contact (POC)\"] = df[\"Social Link / Point of Contact (POC)\"].apply(markdown_to_rich_text)\n",
    "    df[\"Join Group\"] = df[\"Join Group\"].apply(markdown_to_rich_text)"
   ]
  },
  {
   "cell_type": "code",
   "execution_count": 11,
   "metadata": {},
   "outputs": [],
   "source": [
    "    # Rearranging columns to have 'ID' and 'Join Group' at the beginning\n",
    "#     df = df[['ID', 'DCG Name', 'Group Location', 'Website', 'Social Link / Point of Contact (POC)', 'Join Group']]"
   ]
  },
  {
   "cell_type": "code",
   "execution_count": 12,
   "metadata": {},
   "outputs": [],
   "source": [
    "    # Create output /dir if it doesn't exist\n",
    "    output_folder = \"../DCGroups-XLSX\"\n",
    "    os.makedirs(output_folder, exist_ok=True)"
   ]
  },
  {
   "cell_type": "code",
   "execution_count": 13,
   "metadata": {},
   "outputs": [],
   "source": [
    "    # Create new dcg Excel with final groups data\n",
    "    output_file = os.path.join(output_folder, \"DCGroups-final.xlsx\")\n",
    "    wb = Workbook()\n",
    "    ws = wb.active"
   ]
  },
  {
   "cell_type": "code",
   "execution_count": null,
   "metadata": {},
   "outputs": [],
   "source": []
  },
  {
   "cell_type": "code",
   "execution_count": 14,
   "metadata": {},
   "outputs": [
    {
     "name": "stdout",
     "output_type": "stream",
     "text": [
      "Index(['ID', 'DCG Name', 'Group Location', 'Website',\n",
      "       'Social Link / Point of Contact (POC)', 'Join Group'],\n",
      "      dtype='object')\n"
     ]
    }
   ],
   "source": [
    "print(df.columns) # troubleshooting:displaying headers "
   ]
  },
  {
   "cell_type": "code",
   "execution_count": null,
   "metadata": {},
   "outputs": [],
   "source": []
  },
  {
   "cell_type": "code",
   "execution_count": 15,
   "metadata": {},
   "outputs": [],
   "source": [
    "    # Convert the DataFrame to Excel\n",
    "    for r_idx, row in enumerate(dataframe_to_rows(df, index=False, header=True), 1):\n",
    "        for c_idx, value in enumerate(row, 1):\n",
    "            cell = ws.cell(row=r_idx, column=c_idx, value=value)\n",
    "            cell.alignment = Alignment(wrap_text=True)  # Enable text wrapping for cells\n",
    "            \n",
    "            # Check if the cell value contains a Markdown link\n",
    "            if isinstance(value, str) and re.search(r'\\[([^]]+)\\]\\(([^)]+)\\)', value):\n",
    "                # Extract the link text and target URL\n",
    "                link_text = extract_link_text(value)\n",
    "                target_url = re.search(r'\\[([^]]+)\\]\\(([^)]+)\\)', value).group(2)\n",
    "                \n",
    "                # Format the cell as a clickable hyperlink with the link text\n",
    "                cell.font = Font(color=\"0070C0\", underline=\"single\")\n",
    "                cell.hyperlink = target_url"
   ]
  },
  {
   "cell_type": "code",
   "execution_count": 16,
   "metadata": {},
   "outputs": [],
   "source": [
    "# Set font style for headers\n",
    "header_font = Font(bold=True, size=14)"
   ]
  },
  {
   "cell_type": "code",
   "execution_count": 17,
   "metadata": {},
   "outputs": [],
   "source": [
    "# Apply header font to header row\n",
    "for cell in ws[1]:\n",
    "    cell.font = header_font"
   ]
  },
  {
   "cell_type": "code",
   "execution_count": null,
   "metadata": {},
   "outputs": [],
   "source": []
  },
  {
   "cell_type": "code",
   "execution_count": 18,
   "metadata": {},
   "outputs": [],
   "source": [
    "    # Adjust column widths for all columns\n",
    "    for column in df.columns:\n",
    "        max_length = df[column].astype(str).apply(len).max()  # Find the max length of values in each column\n",
    "        col_letter = get_column_letter(df.columns.get_loc(column) + 1)  # Get the column letter\n",
    "\n",
    "        # Adjust the column width to fit the max length plus some padding\n",
    "        adjusted_width = max_length + 2\n",
    "        ws.column_dimensions[col_letter].width = adjusted_width\n",
    "        \n",
    "        # Set a maximum width for 'Social Link / Point of Contact (POC)'\n",
    "        if column == 'Social Link / Point of Contact (POC)':\n",
    "            ws.column_dimensions[col_letter].width = min(adjusted_width, 50)"
   ]
  },
  {
   "cell_type": "code",
   "execution_count": 19,
   "metadata": {},
   "outputs": [],
   "source": [
    "# Saving the Excel file\n",
    "wb.save(output_file)"
   ]
  },
  {
   "cell_type": "code",
   "execution_count": 20,
   "metadata": {},
   "outputs": [
    {
     "name": "stdout",
     "output_type": "stream",
     "text": [
      "Conversion complete. XLSX file saved to ../DCGroups-XLSX\\DCGroups-final.xlsx\n"
     ]
    }
   ],
   "source": [
    "print(f\"Conversion complete. XLSX file saved to {output_file}\")"
   ]
  },
  {
   "cell_type": "code",
   "execution_count": null,
   "metadata": {},
   "outputs": [],
   "source": []
  }
 ],
 "metadata": {
  "kernelspec": {
   "display_name": "Python 3",
   "language": "python",
   "name": "python3"
  },
  "language_info": {
   "codemirror_mode": {
    "name": "ipython",
    "version": 3
   },
   "file_extension": ".py",
   "mimetype": "text/x-python",
   "name": "python",
   "nbconvert_exporter": "python",
   "pygments_lexer": "ipython3",
   "version": "3.6.4"
  }
 },
 "nbformat": 4,
 "nbformat_minor": 2
}
